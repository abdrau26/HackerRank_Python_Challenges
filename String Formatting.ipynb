{
 "cells": [
  {
   "cell_type": "markdown",
   "id": "2ec9d94e-7ac8-4e7e-9d2e-f7bb9381c50f",
   "metadata": {},
   "source": [
    "# Problem Statement"
   ]
  },
  {
   "cell_type": "markdown",
   "id": "64a45624-c3e7-4c41-965a-50f634275fc1",
   "metadata": {},
   "source": [
    "Given an integer,\"n\" , print the following values for each integer \"i\" from \"1\" to \"n\":\n",
    "\n",
    "1. Decimal\n",
    "2. Octal\n",
    "3. Hexadecimal (capitalized)\n",
    "4. Binary"
   ]
  },
  {
   "cell_type": "markdown",
   "id": "f93ae691-ff57-43fe-88b7-95a6dc232604",
   "metadata": {},
   "source": [
    "### Prints\n",
    "\n",
    "The four values must be printed on a single line in the order specified above for each \"i\" from \"1\" to \"number\". Each value should be space-padded to match the width of the binary value of  and the values should be separated by a single space."
   ]
  },
  {
   "cell_type": "markdown",
   "id": "1fffb2f4-1d7f-4758-a441-96c3d7caa971",
   "metadata": {},
   "source": [
    "# Solution"
   ]
  },
  {
   "cell_type": "code",
   "execution_count": 29,
   "id": "5a7f2eaa-c88a-499d-acc9-486f07e01607",
   "metadata": {},
   "outputs": [
    {
     "name": "stdin",
     "output_type": "stream",
     "text": [
      " 17\n"
     ]
    },
    {
     "name": "stdout",
     "output_type": "stream",
     "text": [
      "    1     1     1     1\n",
      "    2     2     2    10\n",
      "    3     3     3    11\n",
      "    4     4     4   100\n",
      "    5     5     5   101\n",
      "    6     6     6   110\n",
      "    7     7     7   111\n",
      "    8    10     8  1000\n",
      "    9    11     9  1001\n",
      "   10    12     A  1010\n",
      "   11    13     B  1011\n",
      "   12    14     C  1100\n",
      "   13    15     D  1101\n",
      "   14    16     E  1110\n",
      "   15    17     F  1111\n",
      "   16    20    10 10000\n",
      "   17    21    11 10001\n"
     ]
    }
   ],
   "source": [
    "def print_formatted(number):\n",
    "    for i in range(1,number+1):\n",
    "        width = len(format(number,\"b\"))\n",
    "        decimal = str(i).rjust(width)\n",
    "        octal = str(oct(i)[2:]).rjust(width)\n",
    "        hexa = str(hex(i)[2:].upper()).rjust(width)\n",
    "        binary = str(bin(i)[2:]).rjust(width)\n",
    "        print(decimal,octal, hexa,binary,sep=\" \")\n",
    "    \n",
    "\n",
    "if __name__ == '__main__':\n",
    "    n = int(input())\n",
    "    print_formatted(n)"
   ]
  },
  {
   "cell_type": "code",
   "execution_count": null,
   "id": "b93442fe-4f7f-4653-9529-47f07de74bd1",
   "metadata": {},
   "outputs": [],
   "source": []
  }
 ],
 "metadata": {
  "kernelspec": {
   "display_name": "Python 3 (ipykernel)",
   "language": "python",
   "name": "python3"
  },
  "language_info": {
   "codemirror_mode": {
    "name": "ipython",
    "version": 3
   },
   "file_extension": ".py",
   "mimetype": "text/x-python",
   "name": "python",
   "nbconvert_exporter": "python",
   "pygments_lexer": "ipython3",
   "version": "3.11.8"
  }
 },
 "nbformat": 4,
 "nbformat_minor": 5
}
